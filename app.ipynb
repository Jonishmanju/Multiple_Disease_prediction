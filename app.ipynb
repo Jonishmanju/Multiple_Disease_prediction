{
 "cells": [
  {
   "cell_type": "code",
   "execution_count": null,
   "id": "f8d411cc",
   "metadata": {},
   "outputs": [
    {
     "name": "stdout",
     "output_type": "stream",
     "text": [
      " * Serving Flask app '__main__'\n",
      " * Debug mode: off\n"
     ]
    },
    {
     "name": "stderr",
     "output_type": "stream",
     "text": [
      "WARNING: This is a development server. Do not use it in a production deployment. Use a production WSGI server instead.\n",
      " * Running on http://127.0.0.1:5000\n",
      "Press CTRL+C to quit\n",
      "127.0.0.1 - - [15/Mar/2024 15:36:26] \"GET / HTTP/1.1\" 200 -\n",
      "127.0.0.1 - - [15/Mar/2024 15:36:27] \"GET /favicon.ico HTTP/1.1\" 404 -\n"
     ]
    },
    {
     "name": "stdout",
     "output_type": "stream",
     "text": [
      "1/1 [==============================] - 1s 556ms/step\n"
     ]
    },
    {
     "name": "stderr",
     "output_type": "stream",
     "text": [
      "127.0.0.1 - - [15/Mar/2024 15:37:13] \"POST / HTTP/1.1\" 200 -\n"
     ]
    }
   ],
   "source": [
    "from flask import *\n",
    "from tensorflow import *\n",
    "from keras import *\n",
    "from numpy import *\n",
    "from pandas import *\n",
    "import warnings\n",
    "warnings.filterwarnings('ignore')\n",
    "app=Flask(__name__)\n",
    "model=models.load_model('dia')\n",
    "model1=models.load_model('heart')\n",
    "@app.route('/',methods=['GET'])\n",
    "def home():\n",
    "    return render_template('index.html')\n",
    "@app.route('/',methods=['POST'])\n",
    "def home1():\n",
    "    x=[float(i) for i in request.form.values()]\n",
    "    x=DataFrame(x).transpose()\n",
    "    pred=model.predict(x)\n",
    "    pred=argmax(pred)\n",
    "    if pred==0:\n",
    "        pred='The Person Has Diabetics'\n",
    "    else:\n",
    "        pred='The Person Not Having Diabetics'\n",
    "    return render_template('index.html',pred=pred)\n",
    "@app.route('/heart',methods=['GET'])\n",
    "def home2():\n",
    "    return render_template('he.html')\n",
    "@app.route('/heart',methods=['POST'])\n",
    "def home3():\n",
    "    x=[float(i) for i in request.form.values()]\n",
    "    x=DataFrame(x).transpose()\n",
    "    pred=model1.predict(x)\n",
    "    pred=argmax(pred)\n",
    "    if pred==0:\n",
    "        pred='The Person Has Heart Disease'\n",
    "    else:\n",
    "        pred='The Person Not Having Heart Disease'\n",
    "    return render_template('he.html',pred=pred)\n",
    "app.run()"
   ]
  },
  {
   "cell_type": "code",
   "execution_count": null,
   "id": "d0a64dcb",
   "metadata": {},
   "outputs": [],
   "source": []
  },
  {
   "cell_type": "code",
   "execution_count": null,
   "id": "a2560b08",
   "metadata": {},
   "outputs": [],
   "source": []
  }
 ],
 "metadata": {
  "kernelspec": {
   "display_name": "Python 3 (ipykernel)",
   "language": "python",
   "name": "python3"
  },
  "language_info": {
   "codemirror_mode": {
    "name": "ipython",
    "version": 3
   },
   "file_extension": ".py",
   "mimetype": "text/x-python",
   "name": "python",
   "nbconvert_exporter": "python",
   "pygments_lexer": "ipython3",
   "version": "3.11.4"
  }
 },
 "nbformat": 4,
 "nbformat_minor": 5
}
